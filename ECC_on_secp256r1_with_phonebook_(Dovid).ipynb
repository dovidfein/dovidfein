{
  "cells": [
    {
      "cell_type": "markdown",
      "metadata": {
        "id": "view-in-github",
        "colab_type": "text"
      },
      "source": [
        "<a href=\"https://colab.research.google.com/github/dovidfein/dovidfein/blob/main/ECC_on_secp256r1_with_phonebook_(Dovid).ipynb\" target=\"_parent\"><img src=\"https://colab.research.google.com/assets/colab-badge.svg\" alt=\"Open In Colab\"/></a>"
      ]
    },
    {
      "cell_type": "markdown",
      "metadata": {
        "id": "3WLh-g_iymfH"
      },
      "source": [
        "# Partner practice advanced\n",
        "Here we implement the protocol using the `secp256r1` curve, allowing us to encrypt larger and more complex messages.\n",
        "\n",
        "Make a copy of this notebook with your name.\n",
        "\n",
        "It is important that you generate a random private key the first time. See below for instructions."
      ]
    },
    {
      "cell_type": "markdown",
      "source": [
        "## Step 1: Setup"
      ],
      "metadata": {
        "id": "ttkbYK8553jW"
      }
    },
    {
      "cell_type": "markdown",
      "metadata": {
        "id": "kHUMtROuymfH"
      },
      "source": [
        "Build the functions. We will use the `secp256r1` curve.\n",
        "\n",
        "[Curve parameters](https://neuromancer.sk/std/secg/secp256r1#)"
      ]
    },
    {
      "cell_type": "code",
      "execution_count": 37,
      "metadata": {
        "id": "bmTkjoS0ymfI"
      },
      "outputs": [],
      "source": [
        "import numpy as np\n",
        "import random\n",
        "\n",
        "#The curve parameters\n",
        "\n",
        "a = 0xffffffff00000001000000000000000000000000fffffffffffffffffffffffc\n",
        "b = 0x5ac635d8aa3a93e7b3ebbd55769886bc651d06b0cc53b0f63bce3c3e27d2604b\n",
        "p = 0xffffffff00000001000000000000000000000000ffffffffffffffffffffffff\n",
        "# G is given so 'random point' function is not needed here\n",
        "G = [0x6b17d1f2e12c4247f8bce6e563a440f277037d812deb33a0f4a13945d898c296,\n",
        "       0x4fe342e2fe1a7f9b8ee7eb4a7c0f9e162bce33576b315ececbb6406837bf51f5]\n",
        "\n",
        "\n",
        "#The ECC curve\n",
        "def ecc_p(x):\n",
        "  return (pow(x,3,p) + a*x + b)%p #changed to pow function\n",
        "\n",
        "#Inverse point wrt group operation\n",
        "def invP(P):\n",
        "  return([P[0]%p,-P[1]%p]) #added %p after first coordinate\n",
        "\n",
        "\n",
        "#Slope\n",
        "def slope(P,Q):\n",
        "  if P == Q:\n",
        "    m = ((3*pow(P[0],2,p) + a)%p * pow(2*P[1],-1,p))%p #added %p after first part\n",
        "  else:\n",
        "    m = ((P[1]-Q[1])%p * pow((P[0]-Q[0]),-1,p))%p #added %p after first part\n",
        "  return m\n",
        "\n",
        "\n",
        "#Point sum (defining the group operation)\n",
        "def pointsum(P,Q):\n",
        "  if P == 0:\n",
        "    return(Q)\n",
        "  elif Q == 0:\n",
        "    return(P)\n",
        "  elif P == invP(Q):\n",
        "    return(0)\n",
        "  else:\n",
        "    x3 = (pow(slope(P,Q),2,p)-P[0]-Q[0])%p\n",
        "    y3 = (P[1] + slope(P,Q)*(x3-P[0]))%p\n",
        "    return [x3,-y3%p]\n",
        "\n",
        "#Legendre (computing kP using the double-and-add algorithm)\n",
        "def legendreP(k,P):\n",
        "  x = P\n",
        "  y = k\n",
        "  z = 0\n",
        "  while y > 0:\n",
        "    if y%2 == 1:\n",
        "      y = y-1\n",
        "      z = pointsum(z,x)\n",
        "    else:\n",
        "      y = y/2\n",
        "      x = pointsum(x,x)\n",
        "  return(z)\n",
        "\n",
        "\n",
        "#Convert text to numerical message\n",
        "def numbmsg(m):\n",
        "  msg_ascii = [ord(c)- 32 for c in m] #changed to 32\n",
        "  val = 0\n",
        "  for i in range(0,len(msg_ascii)):\n",
        "    val = val*95 + msg_ascii[i] #changed to 95\n",
        "  return val\n",
        "\n",
        "\n",
        "#Convert the numerical message to text\n",
        "def textmsg(m):\n",
        "  char = ''\n",
        "  while m > 0:\n",
        "    char += chr(m%95 + 32)#changed to 95 and 32\n",
        "    m = m//95#changed to 95\n",
        "  char = char[::-1]#reverse for the encrypted message\n",
        "  return(char)\n",
        "\n",
        "#Find the point that codifies the message\n",
        "def codify(m):\n",
        "  x = numbmsg(msg)*95 #adding the @ symbol. changed to 95\n",
        "  y2 = ecc_p(x)#gives y^2 (in Zp)\n",
        "\n",
        "  while pow(y2,(p-1)//2,p) != 1:#This has been fixed\n",
        "    x += 1\n",
        "    y2 = ecc_p(x)\n",
        "\n",
        "  root1 = pow(y2,(p+1)//4,p)#One of the roots. This has been fixed\n",
        "\n",
        "  y = min(root1, p - root1, p)#Takes the smaller of the two roots in Zp\n",
        "  return [x,y]"
      ]
    },
    {
      "cell_type": "markdown",
      "metadata": {
        "id": "yIxTqkObymfI"
      },
      "source": [
        "## Step 2: Keys"
      ]
    },
    {
      "cell_type": "markdown",
      "source": [
        "Use the following **only** the first time, when creating the keys. Running it again will require that you share the public key again!!\n",
        "<br> Copy and paste the output to the following cell as d_A."
      ],
      "metadata": {
        "id": "nScE5dQ-0H4a"
      }
    },
    {
      "cell_type": "code",
      "source": [
        "# d_A = random.randint(0,p-1)\n",
        "# print(hex(d_A)) #Use these two lines the first time to generate the key."
      ],
      "metadata": {
        "id": "tZTctJO_0M6r"
      },
      "execution_count": null,
      "outputs": []
    },
    {
      "cell_type": "code",
      "execution_count": 38,
      "metadata": {
        "colab": {
          "base_uri": "https://localhost:8080/"
        },
        "id": "Q88NwVj3ymfJ",
        "outputId": "7089a4c2-1a93-4d9d-fe3d-fa222348563e"
      },
      "outputs": [
        {
          "output_type": "stream",
          "name": "stdout",
          "text": [
            "Your public key to be shared with your partner is H_A.\n",
            "x-coordinate:  0xd54eba5ed1bfed2c2d6138c3d796770b62f5855625521fd1bd978a3544acd96d \n",
            "y-coordinate:  0x5d2e3fd90152a584c567362e2c62d8dbf040738f6530dd266bbb19eccc7d797e\n"
          ]
        }
      ],
      "source": [
        "d_A = 0x279538420601f57d1cae3d55ccfefff84e12d0222090380293f7073aadda508a #Keep this secret!!\n",
        "H_A = legendreP(d_A,G)\n",
        "print('Your public key to be shared with your partner is H_A.\\nx-coordinate: ',\n",
        "      hex(H_A[0]), '\\ny-coordinate: ',hex(H_A[1]))"
      ]
    },
    {
      "cell_type": "markdown",
      "source": [
        "### Import phonebook from Google Sheets\n",
        "Students all complete the survey using this [link](https://forms.gle/N7Z1jiShxcJ6NzUB8).\n",
        "\n",
        "The sheet must be stored in the user's drive.\n",
        "\n",
        "Share link with all students (view only).\n",
        "\n",
        "The phonebook is stored as a `dataframe` and can be manipulated.\n",
        "\n",
        " - It was alphabetized above (leave name as just one field so students can add a last name/initial?).\n",
        " - Pull list of names.\n",
        " - Print list with numbers alongside. User selects number. If not, re-rerun function.\n",
        " - Once number is selected, the corresponding x- and y- coordinates will be saved for the ECC protocol.\n",
        " - Messages to be broadcast in group. Only intended recipient can decrypt."
      ],
      "metadata": {
        "id": "tSNRMvUjz9iW"
      }
    },
    {
      "cell_type": "code",
      "source": [
        "from google.colab import auth\n",
        "import gspread as gs\n",
        "from google.auth import default\n",
        "import pandas as pd\n",
        "\n",
        "auth.authenticate_user()\n",
        "creds, _ = default()\n",
        "\n",
        "gc = gs.authorize(creds)\n",
        "\n",
        "ws = gc.open('Phonebook (Responses)').sheet1#worksheet\n",
        "\n",
        "# get_all_values gives a list of rows.\n",
        "# rows = ws.get_all_values()\n",
        "# print(rows)\n",
        "# Convert to a DataFrame and render\n",
        "# pd.DataFrame.from_records(rows)\n",
        "\n",
        "df = pd.DataFrame(ws.get_all_records())\n",
        "df = df.sort_values('Name')#Use ascending = False for reverse order\n",
        "# df.head()#To see the dataframe.\n",
        "\n",
        "def select_rec():\n",
        "  pos = -1\n",
        "  for name in df.Name:\n",
        "    pos += 1\n",
        "    print(\"For\",name, \"type\",pos)\n",
        "  receiver = int(input())\n",
        "  if receiver not in list(range(len(df.Name))):\n",
        "    print(\"\\nPlease type one of the numbers listed.\")\n",
        "    return select_rec()\n",
        "  else:\n",
        "    print(\"\\nYou will be communicating with\",df.iloc[receiver,1])\n",
        "    H_partner = [int(df.iloc[receiver,2],16),int(df.iloc[receiver,3],16)]#Pull the receiver's key from the dataframe.\n",
        "    return H_partner\n",
        "\n",
        "H_partner = select_rec()\n",
        "\n",
        "# print('The public key you asked for is H:\\nx-coordinate: ',\n",
        "#       hex(H_partner[0]), '\\ny-coordinate: ',hex(H_partner[1]))#Just to double check that it works. Hide later.\n",
        "\n",
        "S = legendreP(d_A,H_partner)\n",
        "# print('The shared secret is S:\\nx-coordinate: ',hex(S[0]),'\\ny-coordinate: ',hex(S[1]))"
      ],
      "metadata": {
        "colab": {
          "base_uri": "https://localhost:8080/"
        },
        "id": "u4veaZf90EFO",
        "outputId": "4fcf858e-157b-4176-ea6e-adc27fec6c2b"
      },
      "execution_count": 46,
      "outputs": [
        {
          "output_type": "stream",
          "name": "stdout",
          "text": [
            "For Dovid type 0\n",
            "For Manuela type 1\n",
            "For Michele type 2\n",
            "2\n",
            "\n",
            "You will be communicating with Michele\n"
          ]
        }
      ]
    },
    {
      "cell_type": "markdown",
      "source": [
        "## Step 3a: Send an encrypted message"
      ],
      "metadata": {
        "id": "Q4EJw_8c-JxP"
      }
    },
    {
      "cell_type": "code",
      "source": [
        "msg = input(\"Type the message that you wish to send: \")\n",
        "M = codify(msg)#This codifies the message.\n",
        "M_prime = pointsum(M,S)#This encrypts the message\n",
        "print(\"Send the encrypted message.\\n x-coordinate: \"\n",
        "      ,hex(M_prime[0]),\"\\n y-coordinate: \",hex(M_prime[1]))"
      ],
      "metadata": {
        "colab": {
          "base_uri": "https://localhost:8080/"
        },
        "id": "jZJ2LGYJ-f95",
        "outputId": "526bc9ea-250f-4d3c-f73d-e8f548a2cdc2"
      },
      "execution_count": 41,
      "outputs": [
        {
          "output_type": "stream",
          "name": "stdout",
          "text": [
            "Type the message that you wish to send: Don't look:) hehehe\n",
            "Send the encrypted message.\n",
            " x-coordinate:  0x2fb601f42730353748440015cdf7b53dcbf1721047539561937fcc5e1443a38a \n",
            " y-coordinate:  0x73b01676e02a8aaa8b5ff90bc6c91e7de4aa0540c5427e653ce4ada172cd21cc\n"
          ]
        }
      ]
    },
    {
      "cell_type": "markdown",
      "source": [
        "## Step 3b: Receive an encrypted message and decrypt"
      ],
      "metadata": {
        "id": "Zv8PMxlh-QOs"
      }
    },
    {
      "cell_type": "code",
      "source": [
        "enc_x = int(input(\"Enter the x-coordinate of your encrypted message: \"),16)\n",
        "enc_y = int(input(\"Enter the y-coordinate of your encrypted message: \"),16)\n",
        "enc = [enc_x,enc_y]\n",
        "dec_msg = textmsg(pointsum(enc,invP(S))[0])\n",
        "print('The decrypted message is:',dec_msg.rstrip(dec_msg[-1]))"
      ],
      "metadata": {
        "colab": {
          "base_uri": "https://localhost:8080/"
        },
        "id": "BbPxbgFq8OZh",
        "outputId": "af331f59-6864-47d2-d0b7-2a8df88122c9"
      },
      "execution_count": 47,
      "outputs": [
        {
          "output_type": "stream",
          "name": "stdout",
          "text": [
            "Enter the x-coordinate of your encrypted message: 0x4dc1133f01b3f299328f1d4bc76805bb87edffc2170e4973ee036744ac752824 \n",
            "Enter the y-coordinate of your encrypted message: 0xc91b037d6dbfc3da4acf0197ef095245a0da12c536b8de6e69898ef1757677e\n",
            "The decrypted message is: Ciao Dovid!\n"
          ]
        }
      ]
    },
    {
      "cell_type": "markdown",
      "metadata": {
        "id": "de67LIeoNe74"
      },
      "source": [
        "# Resources\n",
        "[Volya Elliptic Curves in Python](https://volya.xyz/ecc/)\n",
        "<br>\n",
        "[ECC: a gentle introduction](https://andrea.corbellini.name/2015/05/17/elliptic-curve-cryptography-a-gentle-introduction/)\n",
        "\n",
        "\n",
        "\n",
        "\n",
        "\n"
      ]
    }
  ],
  "metadata": {
    "colab": {
      "provenance": [],
      "toc_visible": true,
      "include_colab_link": true
    },
    "kernelspec": {
      "display_name": "Python 3 (ipykernel)",
      "language": "python",
      "name": "python3"
    },
    "language_info": {
      "codemirror_mode": {
        "name": "ipython",
        "version": 3
      },
      "file_extension": ".py",
      "mimetype": "text/x-python",
      "name": "python",
      "nbconvert_exporter": "python",
      "pygments_lexer": "ipython3",
      "version": "3.11.5"
    }
  },
  "nbformat": 4,
  "nbformat_minor": 0
}